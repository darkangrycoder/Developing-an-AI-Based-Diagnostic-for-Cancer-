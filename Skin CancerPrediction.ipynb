{
 "cells": [
  {
   "cell_type": "code",
   "execution_count": null,
   "id": "1209a5cc",
   "metadata": {},
   "outputs": [],
   "source": [
    "import numpy as np\n",
    "import pandas as pd\n",
    "import tensorflow as tf\n",
    "from tensorflow.keras import layers\n",
    "from tensorflow import keras\n",
    "from tensorflow.keras import models\n",
    "import matplotlib.pyplot as plt\n",
    "from sklearn.model_selection import train_test_split\n",
    "import PIL.Image as img\n",
    "from keras.layers import Dense, Conv2D , MaxPool2D , Dropout , Flatten\n",
    "from keras.callbacks import EarlyStopping\n",
    "from tensorflow.keras.utils import to_categorical\n",
    "from tensorflow.keras.layers.experimental import preprocessing"
   ]
  },
  {
   "cell_type": "code",
   "execution_count": null,
   "id": "ae860c5a",
   "metadata": {},
   "outputs": [],
   "source": [
    "data = pd.read_csv('/kaggle/input/skin-cancer-mnist-ham10000/hmnist_28_28_L.csv')\n",
    "data_rescale = data/255\n",
    "data_rescale"
   ]
  },
  {
   "cell_type": "code",
   "execution_count": null,
   "id": "1a2c2ce1",
   "metadata": {},
   "outputs": [],
   "source": [
    "data.describe()"
   ]
  },
  {
   "cell_type": "code",
   "execution_count": null,
   "id": "46eeef37",
   "metadata": {},
   "outputs": [],
   "source": [
    "data.groupby('label').count()['pixel0001']"
   ]
  },
  {
   "cell_type": "code",
   "execution_count": null,
   "id": "9d6f7208",
   "metadata": {},
   "outputs": [],
   "source": [
    "data.isnull().sum()"
   ]
  },
  {
   "cell_type": "code",
   "execution_count": null,
   "id": "146e3b5a",
   "metadata": {},
   "outputs": [],
   "source": [
    "plt.figure(figsize=(8,8))\n",
    "for i in range(16):\n",
    "    plt.subplot(4,4,i+1)\n",
    "    plt.imshow(data_rescale.iloc[i,:784].values.reshape(28,28))\n",
    "    plt.title(data.iloc[i,784])"
   ]
  },
  {
   "cell_type": "code",
   "execution_count": null,
   "id": "2bbdfcb5",
   "metadata": {},
   "outputs": [],
   "source": [
    "x = data_rescale.iloc[:,0:784]\n",
    "y = data_rescale['label']*255"
   ]
  },
  {
   "cell_type": "code",
   "execution_count": null,
   "id": "3f95b374",
   "metadata": {},
   "outputs": [],
   "source": [
    "EarlyStop = keras.callbacks.EarlyStopping(\n",
    "               min_delta = 0.001,\n",
    "               patience = 10 ,\n",
    "               verbose = 0\n",
    ")\n",
    "model = keras.Sequential([\n",
    "        preprocessing.RandomFlip('horizontal'),\n",
    "        layers.Conv2D(20 , kernel_size =9),\n",
    "        layers.MaxPool2D(pool_size=1),\n",
    "        layers.Conv2D(16, kernel_size = 7),\n",
    "        layers.MaxPool2D(pool_size=2),\n",
    "        layers.Flatten(),\n",
    "        layers.BatchNormalization(),\n",
    "        layers.Dropout(0.3),\n",
    "        layers.Dense(7, activation = 'relu'),\n",
    "        layers.Dense(7,activation='softmax')\n",
    "]\n",
    ")\n",
    "model.compile(\n",
    "    optimizer ='adam',\n",
    "    loss = 'categorical_crossentropy',\n",
    "    metrics = ['accuracy']"
   ]
  },
  {
   "cell_type": "code",
   "execution_count": null,
   "id": "45591856",
   "metadata": {},
   "outputs": [],
   "source": [
    "channel = np.zeros(784).transpose()\n",
    "x3d = np.stack((x.iloc[0,:],channel,channel),axis=-1)\n",
    "x3d1 = x3d.reshape(28,28,3)\n",
    "plt.subplot(1,2,1)\n",
    "plt.imshow(data_rescale.iloc[0,:784].values.reshape(28,28))\n",
    "plt.title('Grey Scale')\n",
    "plt.subplot(1,2,2)\n",
    "plt.imshow(x3d1)\n",
    "plt.title('RGB')"
   ]
  },
  {
   "cell_type": "code",
   "execution_count": null,
   "id": "7a4e056f",
   "metadata": {},
   "outputs": [],
   "source": [
    "x_new = x.values.reshape(10015,28,28,1)\n",
    "x_train , x_test , y_train ,y_test = train_test_split(x_new,y,test_size=0.2)\n",
    "print(x_train.shape,\n",
    "x_test.shape)\n",
    "y_train1 = to_categorical(y_train, num_classes=7)\n",
    "y_test1 = to_categorical(y_test, num_classes=7)"
   ]
  },
  {
   "cell_type": "code",
   "execution_count": null,
   "id": "4c81659c",
   "metadata": {},
   "outputs": [],
   "source": [
    "train = model.fit(x_train,\n",
    "          y_train1,\n",
    "          batch_size = 1024,\n",
    "          epochs= 100,\n",
    "          callbacks=[EarlyStop],\n",
    "          validation_data=(x_test,y_test1) )\n",
    "history_df = pd.DataFrame(train.history)\n",
    "history_df.loc[:, ['loss', 'val_loss']].plot();"
   ]
  },
  {
   "cell_type": "code",
   "execution_count": null,
   "id": "c566c481",
   "metadata": {},
   "outputs": [],
   "source": [
    "pred = model.predict(x_test)\n",
    "pred1 = np.argmax(pred,axis=1)\n",
    "pred1[0:100]"
   ]
  },
  {
   "cell_type": "code",
   "execution_count": null,
   "id": "d88c5b92",
   "metadata": {},
   "outputs": [],
   "source": []
  }
 ],
 "metadata": {
  "kernelspec": {
   "display_name": "Python 3 (ipykernel)",
   "language": "python",
   "name": "python3"
  },
  "language_info": {
   "codemirror_mode": {
    "name": "ipython",
    "version": 3
   },
   "file_extension": ".py",
   "mimetype": "text/x-python",
   "name": "python",
   "nbconvert_exporter": "python",
   "pygments_lexer": "ipython3",
   "version": "3.9.1"
  }
 },
 "nbformat": 4,
 "nbformat_minor": 5
}
